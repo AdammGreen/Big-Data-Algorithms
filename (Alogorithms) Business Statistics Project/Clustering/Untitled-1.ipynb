{
 "cells": [
  {
   "cell_type": "code",
   "execution_count": 1,
   "metadata": {},
   "outputs": [
    {
     "ename": "ModuleNotFoundError",
     "evalue": "No module named 'sklearn'",
     "output_type": "error",
     "traceback": [
      "\u001b[0;31m---------------------------------------------------------------------------\u001b[0m",
      "\u001b[0;31mModuleNotFoundError\u001b[0m                       Traceback (most recent call last)",
      "\u001b[1;32m/Users/adamdanielgreen/Desktop/Untitled-1.ipynb Cell 1\u001b[0m line \u001b[0;36m4\n\u001b[1;32m      <a href='vscode-notebook-cell:/Users/adamdanielgreen/Desktop/Untitled-1.ipynb#W1sZmlsZQ%3D%3D?line=1'>2</a>\u001b[0m \u001b[39mimport\u001b[39;00m \u001b[39mnumpy\u001b[39;00m \u001b[39mas\u001b[39;00m \u001b[39mnp\u001b[39;00m\n\u001b[1;32m      <a href='vscode-notebook-cell:/Users/adamdanielgreen/Desktop/Untitled-1.ipynb#W1sZmlsZQ%3D%3D?line=2'>3</a>\u001b[0m \u001b[39mimport\u001b[39;00m \u001b[39mmatplotlib\u001b[39;00m\u001b[39m.\u001b[39;00m\u001b[39mpyplot\u001b[39;00m \u001b[39mas\u001b[39;00m \u001b[39mplt\u001b[39;00m\n\u001b[0;32m----> <a href='vscode-notebook-cell:/Users/adamdanielgreen/Desktop/Untitled-1.ipynb#W1sZmlsZQ%3D%3D?line=3'>4</a>\u001b[0m \u001b[39mfrom\u001b[39;00m \u001b[39msklearn\u001b[39;00m\u001b[39m.\u001b[39;00m\u001b[39mcluster\u001b[39;00m \u001b[39mimport\u001b[39;00m KMeans\n\u001b[1;32m      <a href='vscode-notebook-cell:/Users/adamdanielgreen/Desktop/Untitled-1.ipynb#W1sZmlsZQ%3D%3D?line=4'>5</a>\u001b[0m \u001b[39mfrom\u001b[39;00m \u001b[39msklearn\u001b[39;00m\u001b[39m.\u001b[39;00m\u001b[39mpreprocessing\u001b[39;00m \u001b[39mimport\u001b[39;00m StandardScaler\n\u001b[1;32m      <a href='vscode-notebook-cell:/Users/adamdanielgreen/Desktop/Untitled-1.ipynb#W1sZmlsZQ%3D%3D?line=6'>7</a>\u001b[0m \u001b[39m# Import the dataset\u001b[39;00m\n",
      "\u001b[0;31mModuleNotFoundError\u001b[0m: No module named 'sklearn'"
     ]
    }
   ],
   "source": [
    "import pandas as pd\n",
    "import numpy as np\n",
    "import matplotlib.pyplot as plt\n",
    "from sklearn.cluster import KMeans\n",
    "from sklearn.preprocessing import StandardScaler\n",
    "\n",
    "# Import the dataset\n",
    "customers = pd.read_csv(\"C://Users//s.nyawa//Documents//R for Data Scientist TBS//customers.csv\")"
   ]
  },
  {
   "cell_type": "code",
   "execution_count": null,
   "metadata": {},
   "outputs": [],
   "source": [
    "# Select columns of interest\n",
    "customers2 = customers[[\"recency.z\", \"frequency.z\", \"monetary.z\"]]\n",
    "\n",
    "# To determine an appropriate value for k\n",
    "wss = []\n",
    "for k in range(1, 31):\n",
    "    kmeans = KMeans(n_clusters=k, n_init=25, max_iter=50, random_state=0)\n",
    "    kmeans.fit(customers2)\n",
    "    wss.append(kmeans.inertia_)"
   ]
  },
  {
   "cell_type": "code",
   "execution_count": null,
   "metadata": {},
   "outputs": [],
   "source": [
    "# Plot the Within Sum of Squares (WSS) for different values of k\n",
    "plt.plot(range(1, 31), wss, marker='o')\n",
    "plt.xlabel(\"Number of Clusters\")\n",
    "plt.ylabel(\"Within Sum of Squares\")\n",
    "plt.show()"
   ]
  },
  {
   "cell_type": "code",
   "execution_count": null,
   "metadata": {},
   "outputs": [],
   "source": [
    "# Choose k=5 based on the elbow method\n",
    "k = 5\n",
    "kmeans = KMeans(n_clusters=k, n_init=25, max_iter=50, random_state=0)\n",
    "kmeans.fit(customers2)\n",
    "\n",
    "# Visualize the clusters and centroids\n",
    "df = pd.DataFrame(customers2, columns=[\"recency.z\", \"frequency.z\", \"monetary.z\"])\n",
    "df[\"cluster\"] = kmeans.labels_\n",
    "centers = pd.DataFrame(kmeans.cluster_centers_, columns=[\"recency.z\", \"frequency.z\", \"monetary.z\"])"
   ]
  },
  {
   "cell_type": "code",
   "execution_count": null,
   "metadata": {},
   "outputs": [],
   "source": [
    "# Scatter plots\n",
    "plt.figure(figsize=(15, 5))\n",
    "plt.subplot(131)\n",
    "plt.scatter(df[\"recency.z\"], df[\"frequency.z\"], c=df[\"cluster\"], cmap='viridis')\n",
    "plt.scatter(centers[\"recency.z\"], centers[\"frequency.z\"], c='red', s=100, marker='x', label='Centroids')\n",
    "plt.xlabel(\"Recency z-score\")\n",
    "plt.ylabel(\"Frequency z-score\")\n",
    "plt.title(\"Recency vs. Frequency\")\n",
    "\n",
    "plt.subplot(132)\n",
    "plt.scatter(df[\"recency.z\"], df[\"monetary.z\"], c=df[\"cluster\"], cmap='viridis')\n",
    "plt.scatter(centers[\"recency.z\"], centers[\"monetary.z\"], c='red', s=100, marker='x', label='Centroids')\n",
    "plt.xlabel(\"Recency z-score\")\n",
    "plt.ylabel(\"Monetary z-score\")\n",
    "plt.title(\"Recency vs. Monetary\")\n",
    "\n",
    "plt.subplot(133)\n",
    "plt.scatter(df[\"frequency.z\"], df[\"monetary.z\"], c=df[\"cluster\"], cmap='viridis')\n",
    "plt.scatter(centers[\"frequency.z\"], centers[\"monetary.z\"], c='red', s=100, marker='x', label='Centroids')\n",
    "plt.xlabel(\"Frequency z-score\")\n",
    "plt.ylabel(\"Monetary z-score\")\n",
    "plt.title(\"Frequency vs. Monetary\")\n",
    "\n",
    "plt.tight_layout()\n",
    "plt.show()"
   ]
  }
 ],
 "metadata": {
  "kernelspec": {
   "display_name": "Python 3",
   "language": "python",
   "name": "python3"
  },
  "language_info": {
   "codemirror_mode": {
    "name": "ipython",
    "version": 3
   },
   "file_extension": ".py",
   "mimetype": "text/x-python",
   "name": "python",
   "nbconvert_exporter": "python",
   "pygments_lexer": "ipython3",
   "version": "3.12.0"
  }
 },
 "nbformat": 4,
 "nbformat_minor": 2
}
